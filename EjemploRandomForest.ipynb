{
 "cells": [
  {
   "cell_type": "markdown",
   "metadata": {
    "deletable": true,
    "editable": true
   },
   "source": [
    "# Random Forest\n",
    "En este Jupyter Notebook veremos una aplicacion de *Random Forest* a la medicina utilizando una base de datos pública sobre cancer de mama. El objetivo del tutorial es dar a conocer cómo funciona el algoritmo y una de sus aplicaciones a problemáticas reales."
   ]
  },
  {
   "cell_type": "markdown",
   "metadata": {
    "deletable": true,
    "editable": true
   },
   "source": [
    "## Introducción\n",
    "El cancer de mama representa la segunda cause de muertes de mujeres en Estados Unidos. Cerca de 246,660 mujeres son diagnositcadas cada año con cancer de mama. \n",
    "\n",
    "Las personas creen que un tumor en las mamas es necesariamente cancer, sin embargo, La verdadera cause de muerte es cuadno el tumor crece continuamente, infectando tejidos cercano.\n",
    "\n",
    "Existen 2 clasificaciones de cancer de mama:\n",
    "- benigno\n",
    "- maligno\n",
    "\n",
    "![cancer-exp](./imagenes/cancer-exp.jpg)\n",
    "\n",
    "## Dataset\n",
    "Para este ejemplo vamosa utilizar el dataset de cancer de mama de wisconsin ([link](https://archive.ics.uci.edu/ml/machine-learning-databases/breast-cancer-wisconsin/breast-cancer-wisconsin.data)) en el cual nos dan los siguientes datos:\n",
    "\n",
    "1. id number\n",
    "2. Clump Thickness: 1 - 10\n",
    "3. Uniformity of Cell Size: 1 - 10\n",
    "4. Uniformity of Cell Shape: 1 - 10\n",
    "5. Marginal Adhesion: 1 - 10\n",
    "6. Single Epithelial Cell Size: 1 - 10\n",
    "7. Bare Nuclei: 1 - 10\n",
    "8. Bland Chromatin: 1 - 10\n",
    "9. Normal Nucleoli: 1 - 10\n",
    "10. Mitoses: 1 - 10\n",
    "11. Class: (2 para benigno, 4 para maligno)\n"
   ]
  },
  {
   "cell_type": "markdown",
   "metadata": {
    "deletable": true,
    "editable": true
   },
   "source": [
    "## Workflow\n",
    "![workflow](./imagenes/workflow.png)"
   ]
  },
  {
   "cell_type": "markdown",
   "metadata": {
    "deletable": true,
    "editable": true
   },
   "source": [
    "## Código"
   ]
  },
  {
   "cell_type": "code",
   "execution_count": 1,
   "metadata": {
    "collapsed": false,
    "deletable": true,
    "editable": true
   },
   "outputs": [],
   "source": [
    "# Paquetes/modulos de python necesarios\n",
    "import pandas as pd\n",
    "import seaborn as sns\n",
    "from sklearn.model_selection import train_test_split\n",
    "from sklearn.ensemble import RandomForestClassifier\n",
    "from sklearn.metrics import accuracy_score\n",
    "from sklearn.metrics import confusion_matrix"
   ]
  },
  {
   "cell_type": "markdown",
   "metadata": {
    "deletable": true,
    "editable": true
   },
   "source": [
    "- **Pandas**:\n",
    "    - Nos ayuda a ordenar los datos en una tabla (dataframe) \n",
    "    - Facilita el preprocesamiento.\n",
    "- **Seaborn**:\n",
    "    - Crea gráficas amistosas y mejor diseñadas.\n",
    "    - Confusion Matrix visual.\n",
    "- **train_test_split**:\n",
    "    - Divide el dataset en datos de prueba y entrenamiento.\n",
    "    - Usaremos los datos de entrenamiento en la fase de entrenamiento y los de prueba una vez que tengamos el modelo entrenado para validar su precision. \n",
    "- **RandomForestClassifier**:\n",
    "    - Importamos Random Forest como modelo de entrenamiento para el dataset. \n",
    "    - Este modelo nos servirá para hacer las predicciones con base al dataset.\n",
    "- **accuracy_score**:\n",
    "    - Calculamos la precisión de las predicciones del clasificador. \n",
    "- **confusion_matrix**:\n",
    "    - Nos da una explicacion del comportamiento del clasificador con nuestros datos de prueba."
   ]
  },
  {
   "cell_type": "markdown",
   "metadata": {
    "deletable": true,
    "editable": true
   },
   "source": [
    "### Preprocesamiento\n",
    "Este dataset no es perfecto, por lo que tenemos que preprocesarlo para cambiar el formato del archivo y completar los valores que hagan falta. Para hacer esto es necesario que abramos el documento primero y lo guardemos como CSV. En mi caso yo guarde el dataset en una carpeta llamada datasets, dependiendo de tu estructura de archivos deberás de ajustar los _path_."
   ]
  },
  {
   "cell_type": "code",
   "execution_count": 2,
   "metadata": {
    "collapsed": false,
    "deletable": true,
    "editable": true
   },
   "outputs": [
    {
     "name": "stdout",
     "output_type": "stream",
     "text": [
      "Archivo Guardado...!\n"
     ]
    }
   ],
   "source": [
    "INPUT_PATH = \"./datasets/breast-cancer-wisconsin.data\"\n",
    "OUTPUT_PATH = \"./datasets/breast-cancer-wisconsin.csv\"\n",
    "\n",
    "# Headers \n",
    "headers = [\"CodeNumber\", \"ClumpThickness\", \"UniformityCellSize\", \"UniformityCellShape\", \"MarginalAdhesion\",\n",
    "           \"SingleEpithelialCellSize\", \"BareNuclei\", \"BlandChromatin\", \"NormalNucleoli\", \"Mitoses\",\n",
    "           \"CancerType\"]\n",
    "\n",
    "# Cargamos el dataset en un DataFrame\n",
    "with open(INPUT_PATH, 'rb') as data:\n",
    "    dataset = pd.read_csv(data)\n",
    "    \n",
    "# Agregamos los headers correctos al DataFrame\n",
    "dataset.columns = headers\n",
    "\n",
    "# Guardamos el dataset en un CSV\n",
    "dataset.to_csv(OUTPUT_PATH, index=False)\n",
    "print(\"Archivo Guardado...!\")"
   ]
  },
  {
   "cell_type": "markdown",
   "metadata": {
    "deletable": true,
    "editable": true
   },
   "source": [
    "Revisamos que el dataset este completo"
   ]
  },
  {
   "cell_type": "code",
   "execution_count": 32,
   "metadata": {
    "collapsed": false,
    "deletable": true,
    "editable": true,
    "scrolled": true
   },
   "outputs": [
    {
     "data": {
      "text/html": [
       "<div>\n",
       "<style>\n",
       "    .dataframe thead tr:only-child th {\n",
       "        text-align: right;\n",
       "    }\n",
       "\n",
       "    .dataframe thead th {\n",
       "        text-align: left;\n",
       "    }\n",
       "\n",
       "    .dataframe tbody tr th {\n",
       "        vertical-align: top;\n",
       "    }\n",
       "</style>\n",
       "<table border=\"1\" class=\"dataframe\">\n",
       "  <thead>\n",
       "    <tr style=\"text-align: right;\">\n",
       "      <th></th>\n",
       "      <th>CodeNumber</th>\n",
       "      <th>ClumpThickness</th>\n",
       "      <th>UniformityCellSize</th>\n",
       "      <th>UniformityCellShape</th>\n",
       "      <th>MarginalAdhesion</th>\n",
       "      <th>SingleEpithelialCellSize</th>\n",
       "      <th>BlandChromatin</th>\n",
       "      <th>NormalNucleoli</th>\n",
       "      <th>Mitoses</th>\n",
       "      <th>CancerType</th>\n",
       "    </tr>\n",
       "  </thead>\n",
       "  <tbody>\n",
       "    <tr>\n",
       "      <th>count</th>\n",
       "      <td>6.980000e+02</td>\n",
       "      <td>698.000000</td>\n",
       "      <td>698.000000</td>\n",
       "      <td>698.000000</td>\n",
       "      <td>698.000000</td>\n",
       "      <td>698.000000</td>\n",
       "      <td>698.000000</td>\n",
       "      <td>698.000000</td>\n",
       "      <td>698.000000</td>\n",
       "      <td>698.000000</td>\n",
       "    </tr>\n",
       "    <tr>\n",
       "      <th>mean</th>\n",
       "      <td>1.071807e+06</td>\n",
       "      <td>4.416905</td>\n",
       "      <td>3.137536</td>\n",
       "      <td>3.210602</td>\n",
       "      <td>2.809456</td>\n",
       "      <td>3.217765</td>\n",
       "      <td>3.438395</td>\n",
       "      <td>2.869628</td>\n",
       "      <td>1.590258</td>\n",
       "      <td>2.690544</td>\n",
       "    </tr>\n",
       "    <tr>\n",
       "      <th>std</th>\n",
       "      <td>6.175323e+05</td>\n",
       "      <td>2.817673</td>\n",
       "      <td>3.052575</td>\n",
       "      <td>2.972867</td>\n",
       "      <td>2.856606</td>\n",
       "      <td>2.215408</td>\n",
       "      <td>2.440056</td>\n",
       "      <td>3.055004</td>\n",
       "      <td>1.716162</td>\n",
       "      <td>0.951596</td>\n",
       "    </tr>\n",
       "    <tr>\n",
       "      <th>min</th>\n",
       "      <td>6.163400e+04</td>\n",
       "      <td>1.000000</td>\n",
       "      <td>1.000000</td>\n",
       "      <td>1.000000</td>\n",
       "      <td>1.000000</td>\n",
       "      <td>1.000000</td>\n",
       "      <td>1.000000</td>\n",
       "      <td>1.000000</td>\n",
       "      <td>1.000000</td>\n",
       "      <td>2.000000</td>\n",
       "    </tr>\n",
       "    <tr>\n",
       "      <th>25%</th>\n",
       "      <td>8.702582e+05</td>\n",
       "      <td>2.000000</td>\n",
       "      <td>1.000000</td>\n",
       "      <td>1.000000</td>\n",
       "      <td>1.000000</td>\n",
       "      <td>2.000000</td>\n",
       "      <td>2.000000</td>\n",
       "      <td>1.000000</td>\n",
       "      <td>1.000000</td>\n",
       "      <td>2.000000</td>\n",
       "    </tr>\n",
       "    <tr>\n",
       "      <th>50%</th>\n",
       "      <td>1.171710e+06</td>\n",
       "      <td>4.000000</td>\n",
       "      <td>1.000000</td>\n",
       "      <td>1.000000</td>\n",
       "      <td>1.000000</td>\n",
       "      <td>2.000000</td>\n",
       "      <td>3.000000</td>\n",
       "      <td>1.000000</td>\n",
       "      <td>1.000000</td>\n",
       "      <td>2.000000</td>\n",
       "    </tr>\n",
       "    <tr>\n",
       "      <th>75%</th>\n",
       "      <td>1.238354e+06</td>\n",
       "      <td>6.000000</td>\n",
       "      <td>5.000000</td>\n",
       "      <td>5.000000</td>\n",
       "      <td>4.000000</td>\n",
       "      <td>4.000000</td>\n",
       "      <td>5.000000</td>\n",
       "      <td>4.000000</td>\n",
       "      <td>1.000000</td>\n",
       "      <td>4.000000</td>\n",
       "    </tr>\n",
       "    <tr>\n",
       "      <th>max</th>\n",
       "      <td>1.345435e+07</td>\n",
       "      <td>10.000000</td>\n",
       "      <td>10.000000</td>\n",
       "      <td>10.000000</td>\n",
       "      <td>10.000000</td>\n",
       "      <td>10.000000</td>\n",
       "      <td>10.000000</td>\n",
       "      <td>10.000000</td>\n",
       "      <td>10.000000</td>\n",
       "      <td>4.000000</td>\n",
       "    </tr>\n",
       "  </tbody>\n",
       "</table>\n",
       "</div>"
      ],
      "text/plain": [
       "         CodeNumber  ClumpThickness  UniformityCellSize  UniformityCellShape  \\\n",
       "count  6.980000e+02      698.000000          698.000000           698.000000   \n",
       "mean   1.071807e+06        4.416905            3.137536             3.210602   \n",
       "std    6.175323e+05        2.817673            3.052575             2.972867   \n",
       "min    6.163400e+04        1.000000            1.000000             1.000000   \n",
       "25%    8.702582e+05        2.000000            1.000000             1.000000   \n",
       "50%    1.171710e+06        4.000000            1.000000             1.000000   \n",
       "75%    1.238354e+06        6.000000            5.000000             5.000000   \n",
       "max    1.345435e+07       10.000000           10.000000            10.000000   \n",
       "\n",
       "       MarginalAdhesion  SingleEpithelialCellSize  BlandChromatin  \\\n",
       "count        698.000000                698.000000      698.000000   \n",
       "mean           2.809456                  3.217765        3.438395   \n",
       "std            2.856606                  2.215408        2.440056   \n",
       "min            1.000000                  1.000000        1.000000   \n",
       "25%            1.000000                  2.000000        2.000000   \n",
       "50%            1.000000                  2.000000        3.000000   \n",
       "75%            4.000000                  4.000000        5.000000   \n",
       "max           10.000000                 10.000000       10.000000   \n",
       "\n",
       "       NormalNucleoli     Mitoses  CancerType  \n",
       "count      698.000000  698.000000  698.000000  \n",
       "mean         2.869628    1.590258    2.690544  \n",
       "std          3.055004    1.716162    0.951596  \n",
       "min          1.000000    1.000000    2.000000  \n",
       "25%          1.000000    1.000000    2.000000  \n",
       "50%          1.000000    1.000000    2.000000  \n",
       "75%          4.000000    1.000000    4.000000  \n",
       "max         10.000000   10.000000    4.000000  "
      ]
     },
     "execution_count": 32,
     "metadata": {},
     "output_type": "execute_result"
    }
   ],
   "source": [
    "# Cargamos la nueva versión del dataset.\n",
    "dataset = pd.read_csv(OUTPUT_PATH)\n",
    "\n",
    "# Conseguimos las estadísticas generales del DataFrame\n",
    "dataset.describe()"
   ]
  },
  {
   "cell_type": "markdown",
   "metadata": {
    "deletable": true,
    "editable": true
   },
   "source": [
    "Como podemos observar, nos hace falta una columna **BareNuclei** y si vemos el CSV obsevramos que tiene datos faltantes los cuales fueron remplazados por un '?' lo que significa que no tenemos esos valores. \n",
    "\n",
    "![workflow](./imagenes/errores.png)"
   ]
  },
  {
   "cell_type": "code",
   "execution_count": 4,
   "metadata": {
    "collapsed": true,
    "deletable": true,
    "editable": true
   },
   "outputs": [],
   "source": [
    "def corrige_valor_faltante(dataset, header_valores_faltantes, label_faltante):\n",
    "    \"\"\"\n",
    "    Filtra un dataset con los valores faltantes.\n",
    "    \n",
    "    Args\n",
    "    --------\n",
    "    dataset: Pandas DataFrame\n",
    "    header_valores_faltantes: string\n",
    "    label_faltante: string\n",
    "    \n",
    "    Returns\n",
    "    --------\n",
    "    dataset: Pandas Dataframe\n",
    "    \"\"\"\n",
    "    \n",
    "    return dataset[dataset[header_valores_faltantes] != label_faltante]"
   ]
  },
  {
   "cell_type": "code",
   "execution_count": 5,
   "metadata": {
    "collapsed": false,
    "deletable": true,
    "editable": true
   },
   "outputs": [
    {
     "data": {
      "text/html": [
       "<div>\n",
       "<style>\n",
       "    .dataframe thead tr:only-child th {\n",
       "        text-align: right;\n",
       "    }\n",
       "\n",
       "    .dataframe thead th {\n",
       "        text-align: left;\n",
       "    }\n",
       "\n",
       "    .dataframe tbody tr th {\n",
       "        vertical-align: top;\n",
       "    }\n",
       "</style>\n",
       "<table border=\"1\" class=\"dataframe\">\n",
       "  <thead>\n",
       "    <tr style=\"text-align: right;\">\n",
       "      <th></th>\n",
       "      <th>CodeNumber</th>\n",
       "      <th>ClumpThickness</th>\n",
       "      <th>UniformityCellSize</th>\n",
       "      <th>UniformityCellShape</th>\n",
       "      <th>MarginalAdhesion</th>\n",
       "      <th>SingleEpithelialCellSize</th>\n",
       "      <th>BareNuclei</th>\n",
       "      <th>BlandChromatin</th>\n",
       "      <th>NormalNucleoli</th>\n",
       "      <th>Mitoses</th>\n",
       "      <th>CancerType</th>\n",
       "    </tr>\n",
       "  </thead>\n",
       "  <tbody>\n",
       "    <tr>\n",
       "      <th>33</th>\n",
       "      <td>1075123</td>\n",
       "      <td>3</td>\n",
       "      <td>1</td>\n",
       "      <td>2</td>\n",
       "      <td>1</td>\n",
       "      <td>2</td>\n",
       "      <td>1</td>\n",
       "      <td>2</td>\n",
       "      <td>1</td>\n",
       "      <td>1</td>\n",
       "      <td>2</td>\n",
       "    </tr>\n",
       "    <tr>\n",
       "      <th>429</th>\n",
       "      <td>1276091</td>\n",
       "      <td>1</td>\n",
       "      <td>3</td>\n",
       "      <td>1</td>\n",
       "      <td>1</td>\n",
       "      <td>2</td>\n",
       "      <td>1</td>\n",
       "      <td>2</td>\n",
       "      <td>2</td>\n",
       "      <td>1</td>\n",
       "      <td>2</td>\n",
       "    </tr>\n",
       "    <tr>\n",
       "      <th>175</th>\n",
       "      <td>1201834</td>\n",
       "      <td>2</td>\n",
       "      <td>1</td>\n",
       "      <td>1</td>\n",
       "      <td>1</td>\n",
       "      <td>2</td>\n",
       "      <td>1</td>\n",
       "      <td>3</td>\n",
       "      <td>1</td>\n",
       "      <td>1</td>\n",
       "      <td>2</td>\n",
       "    </tr>\n",
       "    <tr>\n",
       "      <th>214</th>\n",
       "      <td>1222936</td>\n",
       "      <td>8</td>\n",
       "      <td>7</td>\n",
       "      <td>8</td>\n",
       "      <td>7</td>\n",
       "      <td>5</td>\n",
       "      <td>5</td>\n",
       "      <td>5</td>\n",
       "      <td>10</td>\n",
       "      <td>2</td>\n",
       "      <td>4</td>\n",
       "    </tr>\n",
       "    <tr>\n",
       "      <th>3</th>\n",
       "      <td>1017023</td>\n",
       "      <td>4</td>\n",
       "      <td>1</td>\n",
       "      <td>1</td>\n",
       "      <td>3</td>\n",
       "      <td>2</td>\n",
       "      <td>1</td>\n",
       "      <td>3</td>\n",
       "      <td>1</td>\n",
       "      <td>1</td>\n",
       "      <td>2</td>\n",
       "    </tr>\n",
       "  </tbody>\n",
       "</table>\n",
       "</div>"
      ],
      "text/plain": [
       "     CodeNumber  ClumpThickness  UniformityCellSize  UniformityCellShape  \\\n",
       "33      1075123               3                   1                    2   \n",
       "429     1276091               1                   3                    1   \n",
       "175     1201834               2                   1                    1   \n",
       "214     1222936               8                   7                    8   \n",
       "3       1017023               4                   1                    1   \n",
       "\n",
       "     MarginalAdhesion  SingleEpithelialCellSize BareNuclei  BlandChromatin  \\\n",
       "33                  1                         2          1               2   \n",
       "429                 1                         2          1               2   \n",
       "175                 1                         2          1               3   \n",
       "214                 7                         5          5               5   \n",
       "3                   3                         2          1               3   \n",
       "\n",
       "     NormalNucleoli  Mitoses  CancerType  \n",
       "33                1        1           2  \n",
       "429               2        1           2  \n",
       "175               1        1           2  \n",
       "214              10        2           4  \n",
       "3                 1        1           2  "
      ]
     },
     "execution_count": 5,
     "metadata": {},
     "output_type": "execute_result"
    }
   ],
   "source": [
    "dataset_clean = corrige_valor_faltante(dataset, headers[6], '?')\n",
    "dataset_clean.sample(5)"
   ]
  },
  {
   "cell_type": "markdown",
   "metadata": {
    "deletable": true,
    "editable": true
   },
   "source": [
    "### Division Entrenamiento & Pruebas\n",
    "Ahora generamos nuestro conjunto de entrenamiento y de pruebas. Para hacer esto utilizamos, como ya se mencionó antes, **trains_test_split**. "
   ]
  },
  {
   "cell_type": "code",
   "execution_count": 8,
   "metadata": {
    "collapsed": false,
    "deletable": true,
    "editable": true
   },
   "outputs": [
    {
     "name": "stderr",
     "output_type": "stream",
     "text": [
      "C:\\Users\\personal\\AppData\\Local\\Enthought\\Canopy\\edm\\envs\\User\\lib\\site-packages\\sklearn\\model_selection\\_split.py:2026: FutureWarning: From version 0.21, test_size will always complement train_size unless both are specified.\n",
      "  FutureWarning)\n"
     ]
    }
   ],
   "source": [
    "# Qué porcentaje de los valores se va a utilizar para entrenamiento. El resto será utilizado para pruebas.\n",
    "train_percentage = 0.7\n",
    "feature_headers = headers[1:-1]\n",
    "target_header = headers[-1]\n",
    "\n",
    "train_x, test_x, train_y, test_y = train_test_split(dataset_clean[feature_headers], dataset_clean[target_header],\n",
    "                                                        train_size=train_percentage)"
   ]
  },
  {
   "cell_type": "code",
   "execution_count": 15,
   "metadata": {
    "collapsed": false,
    "deletable": true,
    "editable": true
   },
   "outputs": [
    {
     "name": "stdout",
     "output_type": "stream",
     "text": [
      "Train_x Shape:(477, 9)\n",
      "Train_y Shape:(477,)\n",
      "Test_x Shape:(205, 9)\n",
      "Test_y Shape:(205,)\n"
     ]
    }
   ],
   "source": [
    "print(\"Train_x Shape:{0}\".format(train_x.shape))\n",
    "print(\"Train_y Shape:{0}\".format(train_y.shape))\n",
    "print(\"Test_x Shape:{0}\".format(test_x.shape))\n",
    "print(\"Test_y Shape:{0}\".format(test_y.shape))\n"
   ]
  },
  {
   "cell_type": "markdown",
   "metadata": {},
   "source": [
    "### Entrenamiento del Clasificador\n",
    "Para continuar con lo visto en la presentación de _Arboles de Decision_ utilizamos un conjunto de arboles que utilizan entropia como criterio de decisión. A este árbol le enviamos los datos que dividimos en train para que entrene. "
   ]
  },
  {
   "cell_type": "code",
   "execution_count": 18,
   "metadata": {
    "collapsed": false
   },
   "outputs": [
    {
     "name": "stdout",
     "output_type": "stream",
     "text": [
      "RandomForestClassifier(bootstrap=True, class_weight=None, criterion='entropy',\n",
      "            max_depth=None, max_features='auto', max_leaf_nodes=None,\n",
      "            min_impurity_decrease=0.0, min_impurity_split=None,\n",
      "            min_samples_leaf=1, min_samples_split=2,\n",
      "            min_weight_fraction_leaf=0.0, n_estimators=10, n_jobs=1,\n",
      "            oob_score=False, random_state=None, verbose=0,\n",
      "            warm_start=False)\n"
     ]
    }
   ],
   "source": [
    "clasificador = RandomForestClassifier(criterion='entropy')\n",
    "clasificador.fit(train_x, train_y)\n",
    "print(clasificador)"
   ]
  },
  {
   "cell_type": "markdown",
   "metadata": {},
   "source": [
    "### Predicciones\n",
    "Ahora vamos a comprobar que tan preciso fue el algoritmo para predecir el tipo de cancer que le enviamos. "
   ]
  },
  {
   "cell_type": "code",
   "execution_count": 19,
   "metadata": {
    "collapsed": true
   },
   "outputs": [],
   "source": [
    "predicciones = clasificador.predict(test_x)"
   ]
  },
  {
   "cell_type": "code",
   "execution_count": 21,
   "metadata": {
    "collapsed": false
   },
   "outputs": [
    {
     "name": "stdout",
     "output_type": "stream",
     "text": [
      "Resultado real: 2 \t Resultado predictor: 2\n",
      "Resultado real: 2 \t Resultado predictor: 2\n",
      "Resultado real: 4 \t Resultado predictor: 4\n",
      "Resultado real: 2 \t Resultado predictor: 2\n",
      "Resultado real: 4 \t Resultado predictor: 4\n"
     ]
    }
   ],
   "source": [
    "for i in range(0,5):\n",
    "    print(\"Resultado real: {0} \\t Resultado predictor: {1}\".format(list(test_y)[i], predicciones[i]))"
   ]
  },
  {
   "cell_type": "code",
   "execution_count": 23,
   "metadata": {
    "collapsed": false
   },
   "outputs": [
    {
     "name": "stdout",
     "output_type": "stream",
     "text": [
      "Precisión Entrenamiento: 1.0\n",
      "Precision Pruebas: 0.9560975609756097\n"
     ]
    }
   ],
   "source": [
    "print(\"Precisión Entrenamiento: {0}\".format(accuracy_score(train_y, clasificador.predict(train_x))))\n",
    "print(\"Precision Pruebas: {0}\".format(accuracy_score(test_y, clasificador.predict(test_x))))"
   ]
  },
  {
   "cell_type": "markdown",
   "metadata": {},
   "source": [
    "### Confusion Matrix"
   ]
  },
  {
   "cell_type": "code",
   "execution_count": 27,
   "metadata": {
    "collapsed": true
   },
   "outputs": [],
   "source": [
    "import matplotlib.pyplot as plt"
   ]
  },
  {
   "cell_type": "code",
   "execution_count": 31,
   "metadata": {
    "collapsed": false
   },
   "outputs": [
    {
     "data": {
      "image/png": "[encoded data removed]",
      "text/plain": [
       "<matplotlib.figure.Figure at 0x1d816fd3390>"
      ]
     },
     "metadata": {},
     "output_type": "display_data"
    }
   ],
   "source": [
    "cm = pd.DataFrame(confusion_matrix(test_y, clasificador.predict(test_x)), \n",
    "                                   columns=['benigno', 'maligno'],\n",
    "                                  index=['benigno', 'maligno'])\n",
    "sns.heatmap(cm, annot=True)\n",
    "plt.show()"
   ]
  },
  {
   "cell_type": "code",
   "execution_count": null,
   "metadata": {
    "collapsed": true
   },
   "outputs": [],
   "source": []
  }
 ],
 "metadata": {
  "kernelspec": {
   "display_name": "Python 3",
   "language": "python",
   "name": "python3"
  },
  "language_info": {
   "codemirror_mode": {
    "name": "ipython",
    "version": 3
   },
   "file_extension": ".py",
   "mimetype": "text/x-python",
   "name": "python",
   "nbconvert_exporter": "python",
   "pygments_lexer": "ipython3",
   "version": "3.5.2"
  }
 },
 "nbformat": 4,
 "nbformat_minor": 2
}
