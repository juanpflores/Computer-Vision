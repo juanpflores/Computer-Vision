{
 "cells": [
  {
   "cell_type": "code",
   "execution_count": 2,
   "metadata": {
    "collapsed": false,
    "deletable": true,
    "editable": true
   },
   "outputs": [],
   "source": [
    "\n",
    "# Importamos la librerias que vamos a utilzar en la práctica\n",
    "import cv2\n",
    "import os\n",
    "import math\n",
    "import numpy as np\n",
    "\n",
    "from matplotlib import pyplot as plt\n",
    "from os import listdir\n",
    "from os.path import isfile, join\n"
   ]
  },
  {
   "cell_type": "code",
   "execution_count": 3,
   "metadata": {
    "collapsed": false,
    "deletable": true,
    "editable": true
   },
   "outputs": [],
   "source": [
    "\n",
    "# Creamos tres listas en las que vamos a guardar las matrices de los ultrasonidos. \n",
    "\n",
    "prostatas = []\n",
    "halos = []\n",
    "fondos = []\n",
    "\n",
    "mypath = (os.getcwd() + r'/imagenes/')\n",
    "\n",
    "onlyfiles = [f for f in listdir(mypath) if isfile(join(mypath, f))]\n",
    "\n",
    "# Buscamos entre las imagenes las que sean de prostata, halo o fondo y se asignan a\n",
    "# la lista de imagenes a las que corresponden \n",
    "\n",
    "for file in onlyfiles:\n",
    "    if \"prost\" in file:\n",
    "        img = cv2.imread(mypath + file,0)\n",
    "        temp = gaussian_3 = cv2.GaussianBlur(img, (9,9), 5.0)\n",
    "        prostatas.append(temp)\n",
    "    elif \"halo\" in file:\n",
    "        img = cv2.imread(mypath + file,0)\n",
    "        temp = gaussian_3 = cv2.GaussianBlur(img, (9,9), 5.0)\n",
    "        halos.append(temp)\n",
    "    elif \"fondo\" in file:\n",
    "        img = cv2.imread(mypath + file,0)\n",
    "        temp = gaussian_3 = cv2.GaussianBlur(img, (9,9), 5.0)\n",
    "        fondos.append(temp)"
   ]
  },
  {
   "cell_type": "code",
   "execution_count": 4,
   "metadata": {
    "collapsed": false,
    "deletable": true,
    "editable": true
   },
   "outputs": [],
   "source": [
    "\n",
    "def getMedian(lista):\n",
    "    media_imagenes = 0\n",
    "    media_x =0\n",
    "    media_y =0\n",
    "    vect_res = []\n",
    "    for imagen in lista:\n",
    "        alto = imagen.shape[0]\n",
    "        largo = imagen.shape[1]\n",
    "        vectores_imagen = []\n",
    "        sumx = 0\n",
    "        sumy = 0\n",
    "        suma = 0\n",
    "        cont = 0\n",
    "        for i in range(alto):\n",
    "            \n",
    "            for j in range(largo):\n",
    "                if imagen[i][j] > 0:\n",
    "                    vec = []\n",
    "                    sumx += i\n",
    "                    sumy += j\n",
    "                    suma += imagen[i][j]\n",
    "                    vec.append(imagen[i][j])\n",
    "                    vec.append(i)\n",
    "                    vec.append(j)\n",
    "                    vectores_imagen.append(vec)\n",
    "                    \n",
    "                    cont += 1\n",
    "        \n",
    "        media_y += sumy/cont\n",
    "        media_x += sumx/cont\n",
    "        media_imagenes += suma/cont\n",
    "       \n",
    "        \n",
    "        vectores_parte.append(vectores_imagen)\n",
    "        \n",
    "    vec_medio =[media_x/len(lista),media_y/len(lista),media_imagenes/len(lista)]\n",
    "    media.append(vec_medio)\n",
    " "
   ]
  },
  {
   "cell_type": "code",
   "execution_count": 5,
   "metadata": {
    "collapsed": false,
    "deletable": true,
    "editable": true
   },
   "outputs": [],
   "source": [
    "media = []\n",
    "vectores_parte = []\n",
    "\n",
    "# Obtenemos la media de los grupos de imagenes. \n",
    "getMedian(prostatas)\n",
    "getMedian(halos)\n",
    "getMedian(fondos)\n"
   ]
  },
  {
   "cell_type": "code",
   "execution_count": 6,
   "metadata": {
    "collapsed": false,
    "deletable": true,
    "editable": true
   },
   "outputs": [
    {
     "name": "stdout",
     "output_type": "stream",
     "text": [
      "Media de Prostata: [270.9038795960073, 231.34482454920877, 74.596048737143789]\n",
      "Media de Halo: [268.514435679373, 250.80663728256386, 110.49765573275398]\n",
      "Media de Fondo: [196.44478756615277, 258.23178558042434, 46.004277306619137]\n"
     ]
    }
   ],
   "source": [
    "\n",
    "print(\"Media de Prostata: {0}\\nMedia de Halo: {1}\\nMedia de Fondo: {2}\".format(media[0],media[1],media[2]))"
   ]
  },
  {
   "cell_type": "code",
   "execution_count": 7,
   "metadata": {
    "collapsed": false,
    "deletable": true,
    "editable": true
   },
   "outputs": [
    {
     "data": {
      "image/png": "[encoded data removed]",
      "text/plain": [
       "<matplotlib.figure.Figure at 0x147182f77b8>"
      ]
     },
     "metadata": {},
     "output_type": "display_data"
    }
   ],
   "source": [
    "plt.imshow(fondos[2], cmap='gray')\n",
    "plt.show()"
   ]
  },
  {
   "cell_type": "code",
   "execution_count": 8,
   "metadata": {
    "collapsed": true,
    "deletable": true,
    "editable": true
   },
   "outputs": [],
   "source": [
    "prostata_list = []\n",
    "\n",
    "for i in range(3):\n",
    "    for vector in vectores_parte[i]:\n",
    "        prostata_list.append(vector)"
   ]
  },
  {
   "cell_type": "code",
   "execution_count": 9,
   "metadata": {
    "collapsed": false,
    "deletable": true,
    "editable": true
   },
   "outputs": [
    {
     "name": "stdout",
     "output_type": "stream",
     "text": [
      "Covarianza Prostata\n"
     ]
    },
    {
     "data": {
      "text/plain": [
       "array([[  3208.52248546,    165.93114548,    842.24551492],\n",
       "       [   165.93114548,  15415.07819971,    236.10465767],\n",
       "       [   842.24551492,    236.10465767,  15420.59584376]])"
      ]
     },
     "execution_count": 9,
     "metadata": {},
     "output_type": "execute_result"
    }
   ],
   "source": [
    "print(\"Covarianza Prostata\")\n",
    "cov_pros = np.cov(prostata_list, rowvar=False)\n",
    "cov_pros"
   ]
  },
  {
   "cell_type": "code",
   "execution_count": 10,
   "metadata": {
    "collapsed": true,
    "deletable": true,
    "editable": true
   },
   "outputs": [],
   "source": [
    "halo_list = []\n",
    "\n",
    "for i in range(3,6):\n",
    "    for value in vectores_parte[i]:\n",
    "        halo_list.append(value)"
   ]
  },
  {
   "cell_type": "code",
   "execution_count": 11,
   "metadata": {
    "collapsed": false,
    "deletable": true,
    "editable": true
   },
   "outputs": [
    {
     "name": "stdout",
     "output_type": "stream",
     "text": [
      "Covarianza Halo\n"
     ]
    },
    {
     "data": {
      "text/plain": [
       "array([[  2641.67156584,    206.48822135,    560.21014987],\n",
       "       [   206.48822135,  25385.02254394,   1990.72072497],\n",
       "       [   560.21014987,   1990.72072497,  23984.64307691]])"
      ]
     },
     "execution_count": 11,
     "metadata": {},
     "output_type": "execute_result"
    }
   ],
   "source": [
    "print(\"Covarianza Halo\")\n",
    "cov_halo = np.cov(halo_list, rowvar=False)\n",
    "cov_halo"
   ]
  },
  {
   "cell_type": "code",
   "execution_count": 12,
   "metadata": {
    "collapsed": true,
    "deletable": true,
    "editable": true
   },
   "outputs": [],
   "source": [
    "\n",
    "fondo_list = []\n",
    "\n",
    "for i in range(6,9):\n",
    "    for value in vectores_parte[i]:\n",
    "        fondo_list.append(value)"
   ]
  },
  {
   "cell_type": "code",
   "execution_count": 13,
   "metadata": {
    "collapsed": false,
    "deletable": true,
    "editable": true
   },
   "outputs": [
    {
     "name": "stdout",
     "output_type": "stream",
     "text": [
      "Covarianza Fondo\n"
     ]
    },
    {
     "data": {
      "text/plain": [
       "array([[   463.47726764,    106.95255159,    407.98453949],\n",
       "       [   106.95255159,  29937.61629339,   -695.53287608],\n",
       "       [   407.98453949,   -695.53287608,  27517.86297231]])"
      ]
     },
     "execution_count": 13,
     "metadata": {},
     "output_type": "execute_result"
    }
   ],
   "source": [
    "\n",
    "print(\"Covarianza Fondo\")\n",
    "cov_fondo = np.cov(fondo_list, rowvar=False)\n",
    "cov_fondo"
   ]
  },
  {
   "cell_type": "code",
   "execution_count": 14,
   "metadata": {
    "collapsed": false,
    "deletable": true,
    "editable": true
   },
   "outputs": [],
   "source": [
    "logetP = (1/2)*math.log(np.linalg.det(cov_pros))\n",
    "logetH = (1/2)*math.log(np.linalg.det(cov_halo))\n",
    "logetF = (1/2)*math.log(np.linalg.det(cov_fondo))"
   ]
  },
  {
   "cell_type": "code",
   "execution_count": 15,
   "metadata": {
    "collapsed": true,
    "deletable": true,
    "editable": true
   },
   "outputs": [],
   "source": [
    "\n",
    "invcovP = np.linalg.inv(cov_pros)\n",
    "invcovH = np.linalg.inv(cov_halo)\n",
    "invcovF = np.linalg.inv(cov_fondo)"
   ]
  },
  {
   "cell_type": "code",
   "execution_count": 16,
   "metadata": {
    "collapsed": true,
    "deletable": true,
    "editable": true
   },
   "outputs": [],
   "source": [
    "prostatas_array = []\n",
    "halos_array = []\n",
    "fondos_array = []\n",
    "\n",
    "for img in prostatas:\n",
    "    for filas in img:\n",
    "        for pixel in filas:\n",
    "            prostatas_array.append(pixel)\n",
    "        \n",
    "for img in halos:\n",
    "    for filas in img:\n",
    "        for pixel in filas:\n",
    "            halos_array.append(pixel)\n",
    "\n",
    "for img in fondos:\n",
    "    for filas in img:\n",
    "        for pixel in filas:\n",
    "            fondos_array.append(pixel)"
   ]
  },
  {
   "cell_type": "code",
   "execution_count": null,
   "metadata": {
    "collapsed": false,
    "deletable": true,
    "editable": true
   },
   "outputs": [],
   "source": []
  },
  {
   "cell_type": "code",
   "execution_count": 17,
   "metadata": {
    "collapsed": false,
    "deletable": true,
    "editable": true
   },
   "outputs": [],
   "source": [
    "probP = np.count_nonzero(prostatas_array)/len(prostatas_array)\n",
    "probH = np.count_nonzero(halos_array)/len(halos_array)\n",
    "probF = np.count_nonzero(fondos_array)/len(fondos_array)"
   ]
  },
  {
   "cell_type": "code",
   "execution_count": 18,
   "metadata": {
    "collapsed": false,
    "deletable": true,
    "editable": true
   },
   "outputs": [
    {
     "name": "stdout",
     "output_type": "stream",
     "text": [
      "0.32311311513456326\n",
      "0.6603488383627959\n",
      "0.26754223787772213\n"
     ]
    }
   ],
   "source": [
    "import numpy as np\n",
    "print(probF)\n",
    "print(probH)\n",
    "print(probP)"
   ]
  },
  {
   "cell_type": "code",
   "execution_count": 20,
   "metadata": {
    "collapsed": false,
    "deletable": true,
    "editable": true
   },
   "outputs": [],
   "source": [
    "def gauss(x, mean, invcov, detcov,prob):\n",
    "    a = x-mean\n",
    "    \n",
    "    pexp = (-0.5)*np.dot(a, invcov)\n",
    "    pexp = np.dot(pexp, a.T)\n",
    "\n",
    "    gn= pexp-detcov+math.log(prob)\n",
    "    \n",
    "#    gn = (1/(math.sqrt(2*math.pi*detcov)))*math.pow(math.e, pexp)\n",
    "    \n",
    "    return gn\n",
    "\n",
    "def fit_tranform(imagen):\n",
    "    imagen[15:460][86:531]\n",
    "    nuevo=[]\n",
    "    \n",
    "    imagen_res = np.zeros((imagen.shape))\n",
    "    mnP = np.array([media[0]])\n",
    "    mnH = np.array([media[1]])\n",
    "    mnF = np.array([media[2]])\n",
    "    \n",
    "    alto = imagen.shape[0]\n",
    "    largo = imagen.shape[1]\n",
    "    for i in range(alto):\n",
    "        for j in range(largo):\n",
    "            vector=np.array([[i,j,imagen[i][j]]])\n",
    "           ### vector_p = np.array([[i,j,0]])\n",
    "            \n",
    "            #######  escala de grises                                     distancias \n",
    "            YP = gauss(vector, mnP, invcovP, logetP,probP)#*probP*gauss(vector_p, mnP, invcovP, logetP)\n",
    "            YH = gauss(vector, mnH, invcovH, logetH,probH)#*probH*gauss(vector_p, mnH, invcovH, logetH)\n",
    "            YF = gauss(vector, mnF, invcovF, logetF,probF)#*probF*gauss(vector_p, mnF, invcovF, logetF)\n",
    "            \n",
    "            \n",
    "            if(YP>YH):\n",
    "                if(YP>YF):\n",
    "                    imagen_res[i][j] =250\n",
    "                    #print(\"Prostata\")\n",
    "            elif YH>YF:\n",
    "                imagen_res[i][j] = 130\n",
    "                #print(\"Halo\")\n",
    "            else:\n",
    "                imagen_res[i][j]=0\n",
    "                #print(\"Fondo\")\n",
    "\n",
    "    plt.imshow(imagen_res,cmap='gray')\n",
    "    plt.show()\n",
    "#             YP = -(1/2) * (np.array([i - j for i, j in zip(vector, media[0])])[np.newaxis]).T * invcovP * (np.array([i - j for i, j in zip(vector, media[0])])[np.newaxis]) - logetP + np.log(probP)\n",
    "#             YH = -(1/2) * (np.array([i - j for i, j in zip(vector, media[1])])[np.newaxis]).T * invcovH * (np.array([i - j for i, j in zip(vector, media[1])])[np.newaxis]) - logetP + np.log(probH)\n",
    "#             YF = -(1/2) * (np.array([i - j for i, j in zip(vector, media[2])])[np.newaxis]).T * invcovF * (np.array([i - j for i, j in zip(vector, media[2])])[np.newaxis]) - logetP + np.log(probF)\n",
    "            \n",
    "         "
   ]
  },
  {
   "cell_type": "code",
   "execution_count": 21,
   "metadata": {
    "collapsed": false,
    "deletable": true,
    "editable": true
   },
   "outputs": [
    {
     "data": {
      "image/png": "[encoded data removed]",
      "text/plain": [
       "<matplotlib.figure.Figure at 0x14727fa7b70>"
      ]
     },
     "metadata": {},
     "output_type": "display_data"
    },
    {
     "data": {
      "image/png": "[encoded data removed]",
      "text/plain": [
       "<matplotlib.figure.Figure at 0x14727fb67b8>"
      ]
     },
     "metadata": {},
     "output_type": "display_data"
    }
   ],
   "source": [
    "imagen = cv2.imread(mypath + 'U3-15-03.BMP',0)\n",
    "imagen[15:460][86:531]\n",
    "plt.imshow(imagen, cmap='gray')\n",
    "plt.show()\n",
    "\n",
    "fit_tranform(imagen)"
   ]
  },
  {
   "cell_type": "code",
   "execution_count": null,
   "metadata": {
    "collapsed": false,
    "deletable": true,
    "editable": true
   },
   "outputs": [],
   "source": []
  },
  {
   "cell_type": "code",
   "execution_count": 19,
   "metadata": {
    "collapsed": false,
    "deletable": true,
    "editable": true
   },
   "outputs": [],
   "source": [
    "media[0][0] = 220\n",
    "media[0][1] = 250\n",
    "\n"
   ]
  },
  {
   "cell_type": "code",
   "execution_count": null,
   "metadata": {
    "collapsed": false,
    "deletable": true,
    "editable": true
   },
   "outputs": [],
   "source": [
    "media[0]"
   ]
  },
  {
   "cell_type": "code",
   "execution_count": null,
   "metadata": {
    "collapsed": false,
    "deletable": true,
    "editable": true
   },
   "outputs": [],
   "source": []
  },
  {
   "cell_type": "code",
   "execution_count": null,
   "metadata": {
    "collapsed": true,
    "deletable": true,
    "editable": true
   },
   "outputs": [],
   "source": []
  }
 ],
 "metadata": {
  "kernelspec": {
   "display_name": "Python 3",
   "language": "python",
   "name": "python3"
  },
  "language_info": {
   "codemirror_mode": {
    "name": "ipython",
    "version": 3
   },
   "file_extension": ".py",
   "mimetype": "text/x-python",
   "name": "python",
   "nbconvert_exporter": "python",
   "pygments_lexer": "ipython3",
   "version": "3.5.2"
  }
 },
 "nbformat": 4,
 "nbformat_minor": 2
}
