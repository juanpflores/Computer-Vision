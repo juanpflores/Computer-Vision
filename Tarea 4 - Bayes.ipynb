{
 "cells": [
  {
   "cell_type": "markdown",
   "metadata": {
    "deletable": true,
    "editable": true
   },
   "source": [
    "# Práctica 4: Clasificador de Bayes\n",
    "Hacemos un clasificador de bayes para poder encontrar una prostata, su halo y el fondo del ultrasonido de forma automática. "
   ]
  },
  {
   "cell_type": "code",
   "execution_count": 50,
   "metadata": {
    "collapsed": true,
    "deletable": true,
    "editable": true
   },
   "outputs": [],
   "source": [
    "# Importamos la librerias que vamos a utilzar en la práctica\n",
    "import cv2\n",
    "import os\n",
    "import numpy as np\n",
    "import math\n",
    "\n",
    "from matplotlib import pyplot as plt\n",
    "from os import listdir\n",
    "from os.path import isfile, join"
   ]
  },
  {
   "cell_type": "markdown",
   "metadata": {
    "deletable": true,
    "editable": true
   },
   "source": [
    "## Carga de Imagenes\n",
    "Cargamos las imagenes cortadas en tres secciones previamente:\n",
    "1. Prostata: tiene la seccion del ultrasonido que tiene la prostata.\n",
    "2. Halo: Carga el halo del utrasonido el cual es tejido que rodea la prostata.\n",
    "3. Fondo: "
   ]
  },
  {
   "cell_type": "code",
   "execution_count": 26,
   "metadata": {
    "collapsed": false,
    "deletable": true,
    "editable": true
   },
   "outputs": [],
   "source": [
    "# Creamos tres listas en las que vamos a guardar las matrices de los ultrasonidos. \n",
    "\n",
    "prostatas = []\n",
    "halos = []\n",
    "fondos = []\n",
    "\n",
    "mypath = (os.getcwd() + r'/imagenes/')\n",
    "\n",
    "onlyfiles = [f for f in listdir(mypath) if isfile(join(mypath, f))]\n",
    "\n",
    "# Buscamos entre las imagenes las que sean de prostata, halo o fondo y se asignan a\n",
    "# la lista de imagenes a las que corresponden \n",
    "\n",
    "for file in onlyfiles:\n",
    "    if \"prost\" in file:\n",
    "        img = cv2.imread(mypath + file,0)\n",
    "        temp = gaussian_3 = cv2.GaussianBlur(img, (9,9), 5.0)\n",
    "        prostatas.append(temp)\n",
    "    elif \"halo\" in file:\n",
    "        img = cv2.imread(mypath + file,0)\n",
    "        temp = gaussian_3 = cv2.GaussianBlur(img, (9,9), 5.0)\n",
    "        halos.append(temp)\n",
    "    elif \"fondo\" in file:\n",
    "        img = cv2.imread(mypath + file,0)\n",
    "        temp = gaussian_3 = cv2.GaussianBlur(img, (9,9), 5.0)\n",
    "        fondos.append(temp)"
   ]
  },
  {
   "cell_type": "code",
   "execution_count": 27,
   "metadata": {
    "collapsed": false,
    "deletable": true,
    "editable": true
   },
   "outputs": [],
   "source": [
    "def getMedian(lista):\n",
    "    media_imagenes = 0\n",
    "    vect_res = []\n",
    "    for imagen in lista:\n",
    "        alto = imagen.shape[0]\n",
    "        largo = imagen.shape[1]\n",
    "        vectores_imagen = []\n",
    "        suma = 0\n",
    "        cont = 0\n",
    "        for i in range(alto):\n",
    "            for j in range(largo):\n",
    "                if imagen[i][j] > 0:\n",
    "                    vec = []\n",
    "                    suma += imagen[i][j]\n",
    "                    vec.append(imagen[i][j])\n",
    "                    vec.append(i)\n",
    "                    vec.append(j)\n",
    "                    vectores_imagen.append(vec)\n",
    "                    \n",
    "                    cont += 1\n",
    "        media_imagenes += suma/cont\n",
    "        vectores_parte.append(vectores_imagen)\n",
    "        \n",
    "    \n",
    "    media.append(media_imagenes/len(lista))\n",
    "                \n",
    "    "
   ]
  },
  {
   "cell_type": "code",
   "execution_count": 28,
   "metadata": {
    "collapsed": false,
    "deletable": true,
    "editable": true
   },
   "outputs": [],
   "source": [
    "media = []\n",
    "vectores_parte = []\n",
    "\n",
    "# Obtenemos la media de los grupos de imagenes. \n",
    "getMedian(prostatas)\n",
    "getMedian(halos)\n",
    "getMedian(fondos)"
   ]
  },
  {
   "cell_type": "code",
   "execution_count": 29,
   "metadata": {
    "collapsed": false,
    "deletable": true,
    "editable": true
   },
   "outputs": [
    {
     "name": "stdout",
     "output_type": "stream",
     "text": [
      "Media de Prostata: 59.420810299959726\n",
      "Media de Halo: 79.94311656621329\n",
      "Media de Fondo: 46.00427730661914\n"
     ]
    }
   ],
   "source": [
    "print(\"Media de Prostata: {0}\\nMedia de Halo: {1}\\nMedia de Fondo: {2}\".format(media[0],media[1],media[2]))"
   ]
  },
  {
   "cell_type": "code",
   "execution_count": 30,
   "metadata": {
    "collapsed": false,
    "deletable": true,
    "editable": true
   },
   "outputs": [
    {
     "data": {
      "image/png": "[encoded data removed]",
      "text/plain": [
       "<matplotlib.figure.Figure at 0x12a0fb898>"
      ]
     },
     "metadata": {},
     "output_type": "display_data"
    }
   ],
   "source": [
    "plt.imshow(fondos[2], cmap='gray')\n",
    "plt.show()"
   ]
  },
  {
   "cell_type": "markdown",
   "metadata": {
    "deletable": true,
    "editable": true
   },
   "source": [
    "## Covarianza Prostata"
   ]
  },
  {
   "cell_type": "code",
   "execution_count": 35,
   "metadata": {
    "collapsed": false,
    "deletable": true,
    "editable": true
   },
   "outputs": [],
   "source": [
    "prostata_list = []\n",
    "\n",
    "for i in range(3):\n",
    "    for vector in vectores_parte[i]:\n",
    "        prostata_list.append(vector)"
   ]
  },
  {
   "cell_type": "code",
   "execution_count": 38,
   "metadata": {
    "collapsed": false,
    "deletable": true,
    "editable": true
   },
   "outputs": [
    {
     "name": "stdout",
     "output_type": "stream",
     "text": [
      "Covarianza Prostata\n"
     ]
    },
    {
     "data": {
      "text/plain": [
       "array([[  711.74618757,   625.43033581,   172.2415675 ],\n",
       "       [  625.43033581,  3922.00506736,   618.94488601],\n",
       "       [  172.2415675 ,   618.94488601,  4159.39683926]])"
      ]
     },
     "execution_count": 38,
     "metadata": {},
     "output_type": "execute_result"
    }
   ],
   "source": [
    "print(\"Covarianza Prostata\")\n",
    "cov_pros = np.cov(prostata_list, rowvar=False)\n",
    "cov_pros"
   ]
  },
  {
   "cell_type": "markdown",
   "metadata": {
    "collapsed": false,
    "deletable": true,
    "editable": true
   },
   "source": [
    "## Covarianza Halo"
   ]
  },
  {
   "cell_type": "code",
   "execution_count": 39,
   "metadata": {
    "collapsed": false,
    "deletable": true,
    "editable": true
   },
   "outputs": [],
   "source": [
    "halo_list = []\n",
    "\n",
    "for i in range(3,6):\n",
    "    for value in vectores_parte[i]:\n",
    "        halo_list.append(value)"
   ]
  },
  {
   "cell_type": "code",
   "execution_count": 40,
   "metadata": {
    "collapsed": false,
    "deletable": true,
    "editable": true
   },
   "outputs": [
    {
     "name": "stdout",
     "output_type": "stream",
     "text": [
      "Covarianza Halo\n"
     ]
    },
    {
     "data": {
      "text/plain": [
       "array([[  1339.03836156,    712.77103051,    579.75435398],\n",
       "       [   712.77103051,  18561.04281938,    208.85218909],\n",
       "       [   579.75435398,    208.85218909,  18349.40050211]])"
      ]
     },
     "execution_count": 40,
     "metadata": {},
     "output_type": "execute_result"
    }
   ],
   "source": [
    "print(\"Covarianza Halo\")\n",
    "cov_halo = np.cov(halo_list, rowvar=False)\n",
    "cov_halo"
   ]
  },
  {
   "cell_type": "markdown",
   "metadata": {
    "deletable": true,
    "editable": true
   },
   "source": [
    "## Covarianza Fondo"
   ]
  },
  {
   "cell_type": "code",
   "execution_count": 43,
   "metadata": {
    "collapsed": true,
    "deletable": true,
    "editable": true
   },
   "outputs": [],
   "source": [
    "fondo_list = []\n",
    "\n",
    "for i in range(6,9):\n",
    "    for value in vectores_parte[i]:\n",
    "        fondo_list.append(value)"
   ]
  },
  {
   "cell_type": "code",
   "execution_count": 44,
   "metadata": {
    "collapsed": false,
    "deletable": true,
    "editable": true
   },
   "outputs": [
    {
     "name": "stdout",
     "output_type": "stream",
     "text": [
      "Covarianza Fondo\n"
     ]
    },
    {
     "data": {
      "text/plain": [
       "array([[   463.47726764,    106.95255159,    407.98453949],\n",
       "       [   106.95255159,  29937.61629339,   -695.53287608],\n",
       "       [   407.98453949,   -695.53287608,  27517.86297231]])"
      ]
     },
     "execution_count": 44,
     "metadata": {},
     "output_type": "execute_result"
    }
   ],
   "source": [
    "print(\"Covarianza Fondo\")\n",
    "cov_fondo = np.cov(fondo_list, rowvar=False)\n",
    "cov_fondo"
   ]
  },
  {
   "cell_type": "code",
   "execution_count": 51,
   "metadata": {
    "collapsed": false,
    "deletable": true,
    "editable": true
   },
   "outputs": [],
   "source": [
    "logetP = (1/2)*math.log(np.linalg.det(cov_pros))\n",
    "logetH = (1/2)*math.log(np.linalg.det(cov_halo))\n",
    "logetF = (1/2)*math.log(np.linalg.det(cov_fondo))"
   ]
  },
  {
   "cell_type": "code",
   "execution_count": 52,
   "metadata": {
    "collapsed": false,
    "deletable": true,
    "editable": true
   },
   "outputs": [],
   "source": [
    "invcovP = np.linalg.inv(cov_pros)\n",
    "invcovH = np.linalg.inv(cov_halo)\n",
    "invcovF = np.linalg.inv(cov_fondo)"
   ]
  },
  {
   "cell_type": "code",
   "execution_count": 75,
   "metadata": {
    "collapsed": false,
    "deletable": true,
    "editable": true
   },
   "outputs": [],
   "source": [
    "prostatas_array = []\n",
    "halos_array = []\n",
    "fondos_array = []\n",
    "\n",
    "for img in prostatas:\n",
    "    for filas in img:\n",
    "        for pixel in filas:\n",
    "            prostatas_array.append(pixel)\n",
    "        \n",
    "for img in halos:\n",
    "    for filas in img:\n",
    "        for pixel in filas:\n",
    "            halos_array.append(pixel)\n",
    "\n",
    "for img in fondos:\n",
    "    for filas in img:\n",
    "        for pixel in filas:\n",
    "            fondos_array.append(pixel)\n"
   ]
  },
  {
   "cell_type": "code",
   "execution_count": 79,
   "metadata": {
    "collapsed": false,
    "deletable": true,
    "editable": true
   },
   "outputs": [],
   "source": [
    "probP = np.count_nonzero(prostatas_array)/pixeles_pros\n",
    "probH = np.count_nonzero(halos_array)/pixeles_halo\n",
    "probF = np.count_nonzero(fondos_array)/pixeles_fondo"
   ]
  },
  {
   "cell_type": "code",
   "execution_count": 80,
   "metadata": {
    "collapsed": false,
    "deletable": true,
    "editable": true
   },
   "outputs": [
    {
     "name": "stdout",
     "output_type": "stream",
     "text": [
      "0.32311311513456326\n",
      "0.7121512813255758\n",
      "0.6533212560386473\n"
     ]
    }
   ],
   "source": [
    "print(probF)\n",
    "print(probH)\n",
    "print(probP)"
   ]
  },
  {
   "cell_type": "code",
   "execution_count": null,
   "metadata": {
    "collapsed": true
   },
   "outputs": [],
   "source": [
    "def fit_tranform(imagen):\n",
    "    imagen[15:460][86:531]\n",
    "    YP = -(1/2) * (imagen - media[0]).transpose() * invcovP * (imagen - media[0]) - logetP + np.log(probP)"
   ]
  },
  {
   "cell_type": "code",
   "execution_count": null,
   "metadata": {
    "collapsed": true
   },
   "outputs": [],
   "source": [
    "imagen = cv2.imread(mypath + '<Nombre_Archivo>',0)\n",
    "fit_transform(imagen)"
   ]
  }
 ],
 "metadata": {
  "kernelspec": {
   "display_name": "Python 3",
   "language": "python",
   "name": "python3"
  },
  "language_info": {
   "codemirror_mode": {
    "name": "ipython",
    "version": 3
   },
   "file_extension": ".py",
   "mimetype": "text/x-python",
   "name": "python",
   "nbconvert_exporter": "python",
   "pygments_lexer": "ipython3",
   "version": "3.5.2"
  }
 },
 "nbformat": 4,
 "nbformat_minor": 2
}
